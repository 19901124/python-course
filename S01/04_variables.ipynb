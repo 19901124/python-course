{
 "cells": [
  {
   "attachments": {},
   "cell_type": "markdown",
   "metadata": {},
   "source": [
    "## Variables\n",
    "\n",
    "به طور ساده وقتی شما میخواین یه عدد مثل 5 رو توی حافظه سیستم تون نگه دارین، باید به اون `مکانی که توی حافظه` نگه میدارین یه اسم بدین. این اسم دقیقا همون `متغیر` هست.\n",
    "\n",
    "---\n",
    "\n",
    "نام هایی که به متغیر ها میدین باید از این قواعد پیروی کنن:\n",
    "\n",
    "-  نام های انتخابی باید ` شامل` کاراکترهای الفبای انگیسی و اعداد باشه\n",
    "- نام ها `نمیتونن` با اعداد شروع بشن!\n",
    "- توی پایتون نام ها میتوانند شامل کاراکتر آندرلاین (_) باشند\n",
    "\n",
    "---\n",
    "\n",
    "مثلا این نامگذاری ها اشتباه هستن:\n",
    "\n",
    "`@my_name` , `3_family` , `!_age`\n",
    "\n",
    "نامهای درست:\n",
    "\n",
    "`my_name` , `family` , `_age` , `last_name`\n",
    "\n",
    "---\n",
    "\n",
    "برای اینکه بیشتر بدونین این لینک رو ببینین\n",
    "\n",
    "https://virgool.io/@sadegh.dev/variables-kkim77chbca1\n"
   ]
  },
  {
   "attachments": {},
   "cell_type": "markdown",
   "metadata": {},
   "source": [
    "### Numbers\n",
    "\n",
    "اعداد توی پایتون شامل موارد زیر میشوند:\n",
    "- اعداد صحیح\n",
    "- اعداد اعشاری\n",
    "- اعداد مختلط\n"
   ]
  },
  {
   "attachments": {},
   "cell_type": "markdown",
   "metadata": {},
   "source": [
    "#### int\n",
    "همان عددهای صحیح هست:\n",
    "\n",
    "..., -1, 0, 1, 2, 3, ..."
   ]
  },
  {
   "cell_type": "code",
   "execution_count": 1,
   "metadata": {},
   "outputs": [
    {
     "name": "stdout",
     "output_type": "stream",
     "text": [
      "5 -1401 50000000\n"
     ]
    }
   ],
   "source": [
    "a = 5\n",
    "b = -1401\n",
    "c = 50000000\n",
    "\n",
    "print(a, b, c)"
   ]
  },
  {
   "attachments": {},
   "cell_type": "markdown",
   "metadata": {},
   "source": [
    "برای اینکه نوع یک متغیر رو بشناسیم از دستور \n",
    "\n",
    "`type`\n",
    "\n",
    "استفاده میکنیم"
   ]
  },
  {
   "cell_type": "code",
   "execution_count": 2,
   "metadata": {},
   "outputs": [
    {
     "data": {
      "text/plain": [
       "int"
      ]
     },
     "execution_count": 2,
     "metadata": {},
     "output_type": "execute_result"
    }
   ],
   "source": [
    "type(c)"
   ]
  },
  {
   "attachments": {},
   "cell_type": "markdown",
   "metadata": {},
   "source": [
    "#### float\n",
    "\n",
    "اعداد اعشاری در این دسته قرار دارند."
   ]
  },
  {
   "cell_type": "code",
   "execution_count": 6,
   "metadata": {},
   "outputs": [
    {
     "name": "stdout",
     "output_type": "stream",
     "text": [
      "<class 'float'>\n"
     ]
    }
   ],
   "source": [
    "pi = 3.1415\n",
    "g = 9.8\n",
    "\n",
    "print(type(pi))"
   ]
  },
  {
   "attachments": {},
   "cell_type": "markdown",
   "metadata": {},
   "source": [
    "#### complex\n",
    "\n",
    "اعداد مختلط در این دسته قرار میگیرند.\n",
    "\n",
    "> توجه داشته باشین که در پایتون قسمت موهومی با\n",
    ">\n",
    "> `j` \n",
    ">\n",
    "> مشخص میشوند \n",
    ">\n",
    "> `3 + 6j`\n"
   ]
  },
  {
   "attachments": {},
   "cell_type": "markdown",
   "metadata": {},
   "source": [
    "#### محاسبات ریاضی بر روی اعداد\n",
    "\n",
    "تمام عملیات های:\n",
    "- جمع با علامت `+`\n",
    "- تفریق با علامت `-`\n",
    "- ضرب با علامت `*`\n",
    "- تقسیم با علامت `/`\n",
    "- به توان رساندن با علامت دو تا ستاره `**`\n",
    "- محاسبه باقیمانده با علامت درصد `%`\n",
    "\n",
    "را میتوانید روی اعداد اعمال کنید."
   ]
  },
  {
   "cell_type": "code",
   "execution_count": 16,
   "metadata": {},
   "outputs": [
    {
     "name": "stdout",
     "output_type": "stream",
     "text": [
      "area =  78.53750000000001\n"
     ]
    }
   ],
   "source": [
    "raduis = 5\n",
    "perimeter = 2 * pi * raduis     # متغیر pi در قسمت اعداد اعشاری مقدار گرفته بود. برای همین اینجا استفاده کردم.\n",
    "area = pi * raduis ** 2         # 3.14 * 5 * 5 معادل\n",
    "\n",
    "print(\"area = \", area)"
   ]
  },
  {
   "attachments": {},
   "cell_type": "markdown",
   "metadata": {},
   "source": [
    "میتوانید عملیات ها را بر روی اعداد مختلط هم انجام دهید"
   ]
  },
  {
   "cell_type": "code",
   "execution_count": 20,
   "metadata": {},
   "outputs": [
    {
     "name": "stdout",
     "output_type": "stream",
     "text": [
      "c1 * c2 =  (11.2+42.5j)\n",
      "c1 + c2 =  (11.2+42.5j)\n"
     ]
    }
   ],
   "source": [
    "c1 = 5 - 2j\n",
    "c2 = -1 + 8.1j\n",
    "\n",
    "# ---------------\n",
    "\n",
    "print(\"c1 * c2 = \", c1 * c2)\n",
    "print(\"c1 + c2 = \", c1 * c2)"
   ]
  },
  {
   "attachments": {},
   "cell_type": "markdown",
   "metadata": {},
   "source": [
    "برای اینکه با اعداد و عملیات های آنها بیشتر آشنا شوند این لینک میتونه مفید باشه:\n",
    "\n",
    "https://sabzdanesh.com/python-numbers/"
   ]
  },
  {
   "cell_type": "code",
   "execution_count": 10,
   "metadata": {},
   "outputs": [
    {
     "name": "stdout",
     "output_type": "stream",
     "text": [
      "cpx =  (3+6j)\n",
      "cpx_2 =  (-1-8j)\n"
     ]
    }
   ],
   "source": [
    "cpx = 3 + 6j\n",
    "cpx_2 = -1 - 8j\n",
    "\n",
    "print(\"cpx = \", cpx)\n",
    "print(\"cpx_2 = \", cpx_2)"
   ]
  },
  {
   "attachments": {},
   "cell_type": "markdown",
   "metadata": {},
   "source": [
    "### Strings\n",
    "\n",
    "لیست ها مثل آرایه هستن که میتونین با اندیس ها به هر کدوم از کاراکترهای اون دسترسی داشته باشیم."
   ]
  },
  {
   "cell_type": "markdown",
   "metadata": {},
   "source": [
    "برای اینکه رشته های کاراکتر رو بتونیم نگه داریم از \n",
    "\n",
    "`str`\n",
    "\n",
    "استفاده میکنیم.\n",
    "\n",
    "> در پایتون نوع رشته با \n",
    "> \n",
    "> `str`\n",
    "> \n",
    "> نشان داده میشود."
   ]
  },
  {
   "cell_type": "code",
   "execution_count": 26,
   "metadata": {},
   "outputs": [
    {
     "name": "stdout",
     "output_type": "stream",
     "text": [
      "<class 'str'>\n"
     ]
    }
   ],
   "source": [
    "language = \"Python:\"\n",
    "text = \"Simple is better than complex\"\n",
    "\n",
    "print(type(text))"
   ]
  },
  {
   "attachments": {},
   "cell_type": "markdown",
   "metadata": {},
   "source": [
    "میتوانید رشته ها را با هم با علامت بعلاوه جمع کنید."
   ]
  },
  {
   "cell_type": "code",
   "execution_count": 29,
   "metadata": {},
   "outputs": [
    {
     "name": "stdout",
     "output_type": "stream",
     "text": [
      "content =  Python: Simple is better than complex\n"
     ]
    }
   ],
   "source": [
    "content = language + \" \" + text\n",
    "print(\"content = \", content)"
   ]
  },
  {
   "cell_type": "code",
   "execution_count": 35,
   "metadata": {},
   "outputs": [
    {
     "name": "stdout",
     "output_type": "stream",
     "text": [
      "content[10]:  m\n",
      "content[8: 15]:  Simple \n"
     ]
    }
   ],
   "source": [
    "# اگه بخوایم خونه 10 متغیر content رو ببینیم\n",
    "print(\"content[10]: \" , content[10])\n",
    "\n",
    "# اگه بخوایم از خونه 8 تا خونه 15 رو ببینیم\n",
    "print(\"content[8: 15]: \", content[8: 15])"
   ]
  },
  {
   "attachments": {},
   "cell_type": "markdown",
   "metadata": {},
   "source": [
    "برای اینکه با لیست ها بیشتر کار کنین این لینک رو ببین:\n",
    "\n",
    "https://sabzdanesh.com/%D8%B1%D8%B4%D8%AA%D9%87-%D8%AF%D8%B1-%D9%BE%D8%A7%DB%8C%D8%AA%D9%88%D9%86/"
   ]
  },
  {
   "attachments": {},
   "cell_type": "markdown",
   "metadata": {},
   "source": [
    "### Boolean"
   ]
  },
  {
   "attachments": {},
   "cell_type": "markdown",
   "metadata": {},
   "source": [
    "مقادیر منطقی در پایتون با \n",
    "\n",
    "`bool`\n",
    "\n",
    "شناخته میشوند."
   ]
  },
  {
   "cell_type": "code",
   "execution_count": 38,
   "metadata": {},
   "outputs": [
    {
     "name": "stdout",
     "output_type": "stream",
     "text": [
      "<class 'bool'>\n"
     ]
    }
   ],
   "source": [
    "active = True\n",
    "disable = False\n",
    "\n",
    "# ----------\n",
    "\n",
    "print(type(disable))"
   ]
  },
  {
   "attachments": {},
   "cell_type": "markdown",
   "metadata": {},
   "source": [
    "#### عملیات های منطقی\n",
    "\n",
    "به این شکل یه نگاه بندازین:\n",
    "\n",
    "![image.png](assets/images/logical_operator.png)\n",
    "\n",
    "---\n",
    "\n",
    "عملیات های منطقی در پایتون با دو عملگر \n",
    "\n",
    "- and\n",
    "- or\n",
    "\n",
    "تعریف میشوند."
   ]
  },
  {
   "cell_type": "code",
   "execution_count": 43,
   "metadata": {},
   "outputs": [
    {
     "name": "stdout",
     "output_type": "stream",
     "text": [
      "a and b:     False\n",
      "a or b:      True\n",
      "a and True:  True\n"
     ]
    }
   ],
   "source": [
    "a = True\n",
    "b = False\n",
    "\n",
    "# ---------\n",
    "# لطفا به شکل نگاه کنید. خروجی ستون دوم هست\n",
    "\n",
    "print(\"a and b:    \", a and b)\n",
    "print(\"a or b:     \", a or b)\n",
    "print(\"a and True: \", a and True)"
   ]
  },
  {
   "attachments": {},
   "cell_type": "markdown",
   "metadata": {},
   "source": [
    "### Lists\n",
    "\n",
    " - لیست ها در واقع همان تعریف آرایه هستن\n",
    " - لیست ها میتوانند شامل هر نوع داده ای مانند عدد صحیح یا رشته یا منطقی و ... باشند."
   ]
  },
  {
   "cell_type": "code",
   "execution_count": 46,
   "metadata": {},
   "outputs": [],
   "source": [
    "# این لیست فقط شامل سه تا رشته هست\n",
    "languages = [ \"Python\", \"C++\", \"Java\"]\n",
    "\n",
    "# این لیست شامل اعداد است.\n",
    "numbers = [1, 6.7, 3 + 2j]\n",
    "\n",
    "# این لیست شامل همه انواع مختلف متغیرهاست\n",
    "my_list = [\"Python\", 3.11, True]"
   ]
  },
  {
   "attachments": {},
   "cell_type": "markdown",
   "metadata": {},
   "source": [
    "#### عملیات بر روی لیست ها"
   ]
  },
  {
   "attachments": {},
   "cell_type": "markdown",
   "metadata": {},
   "source": [
    "- میتوانیم یک عنصر از لیست انتخاب کنیم با کمک اندیس\n",
    "- میتوانیم آیتمی در یک لیست اضافه کنیم\n",
    "- میتوانیم آیتمی از لیست حذف کنیم\n",
    "- میتوان دو تا لیست را باهم ترکیب کرد\n",
    "\n",
    "برای اینکه بیشتر با لیست ها کار کنید به این لینک سر بزنین:\n",
    "\n",
    "https://sabzdanesh.com/%D9%84%DB%8C%D8%B3%D8%AA-%D8%AF%D8%B1-%D9%BE%D8%A7%DB%8C%D8%AA%D9%88%D9%86/"
   ]
  },
  {
   "cell_type": "code",
   "execution_count": 57,
   "metadata": {},
   "outputs": [
    {
     "name": "stdout",
     "output_type": "stream",
     "text": [
      "my_list[2]   :  C++\n",
      "my_list[1: 3]:  ['Matlab', 'C++']\n",
      "Delete Matlab:  ['Python', 'C++', 'Java']\n",
      "Appended     :  ['Python', 'C++', 'Java', 'Scala']\n"
     ]
    }
   ],
   "source": [
    "my_list = [\"Python\", \"Matlab\", \"C++\", \"Java\"]\n",
    "\n",
    "# انتخاب یک عنصر با کمک اندیس\n",
    "print(\"my_list[2]   : \", my_list[2])\n",
    "\n",
    "# مثلا اگر بخواهیم از عنصر یک تا سه را مشاهده کنیم\n",
    "print(\"my_list[1: 3]: \", my_list[1: 3])\n",
    "\n",
    "# برای اینکه عنصر دوم را حذف کنیم از این دستور استفاده میکنیم\n",
    "del my_list[1]\n",
    "\n",
    "print(\"Delete Matlab: \", my_list)\n",
    "\n",
    "# با دستور append\n",
    "# میتوانید عنصری را به آخر لیست اضافه کنیم\n",
    "my_list.append(\"Scala\")\n",
    "print(\"Appended     : \", my_list)"
   ]
  },
  {
   "attachments": {},
   "cell_type": "markdown",
   "metadata": {},
   "source": [
    "### Tuple"
   ]
  },
  {
   "cell_type": "code",
   "execution_count": null,
   "metadata": {},
   "outputs": [],
   "source": []
  },
  {
   "cell_type": "code",
   "execution_count": null,
   "metadata": {},
   "outputs": [],
   "source": []
  },
  {
   "attachments": {},
   "cell_type": "markdown",
   "metadata": {},
   "source": [
    "### Dictionary"
   ]
  },
  {
   "cell_type": "code",
   "execution_count": null,
   "metadata": {},
   "outputs": [],
   "source": []
  }
 ],
 "metadata": {
  "kernelspec": {
   "display_name": "Python 3",
   "language": "python",
   "name": "python3"
  },
  "language_info": {
   "codemirror_mode": {
    "name": "ipython",
    "version": 3
   },
   "file_extension": ".py",
   "mimetype": "text/x-python",
   "name": "python",
   "nbconvert_exporter": "python",
   "pygments_lexer": "ipython3",
   "version": "3.11.2"
  },
  "orig_nbformat": 4,
  "vscode": {
   "interpreter": {
    "hash": "1b1080c1582992e469580106124633d903706e9e2f0dbdb2479c5f75db0f5b53"
   }
  }
 },
 "nbformat": 4,
 "nbformat_minor": 2
}
