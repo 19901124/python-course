{
 "cells": [
  {
   "attachments": {},
   "cell_type": "markdown",
   "metadata": {},
   "source": [
    "## Variables\n",
    "\n",
    "به طور ساده وقتی شما میخواین یه عدد مثل 5 رو توی حافظه سیستم تون نگه دارین، باید به اون `مکانی که توی حافظه` نگه میدارین یه اسم بدین. این اسم دقیقا همون `متغیر` هست.\n",
    "\n",
    "---\n",
    "\n",
    "نام هایی که به متغیر ها میدین باید از این قواعد پیروی کنن:\n",
    "\n",
    "-  نام های انتخابی باید ` شامل` کاراکترهای الفبای انگیسی و اعداد باشه\n",
    "- نام ها `نمیتونن` با اعداد شروع بشن!\n",
    "- توی پایتون نام ها میتوانند شامل کاراکتر آندرلاین (_) باشند\n",
    "\n",
    "---\n",
    "\n",
    "مثلا این نامگذاری ها اشتباه هستن:\n",
    "\n",
    "`@my_name` , `3_family` , `!_age`\n",
    "\n",
    "نامهای درست:\n",
    "\n",
    "`my_name` , `family` , `_age` , `last_name`\n",
    "\n",
    "---\n",
    "\n",
    "برای اینکه بیشتر بدونین این لینک رو ببینین\n",
    "\n",
    "https://virgool.io/@sadegh.dev/variables-kkim77chbca1\n"
   ]
  },
  {
   "attachments": {},
   "cell_type": "markdown",
   "metadata": {},
   "source": [
    "### Numbers\n",
    "\n",
    "اعداد توی پایتون شامل موارد زیر میشوند:\n",
    "- اعداد صحیح\n",
    "- اعداد اعشاری\n",
    "- اعداد مختلط\n"
   ]
  },
  {
   "attachments": {},
   "cell_type": "markdown",
   "metadata": {},
   "source": [
    "#### int\n",
    "همان عددهای صحیح هست:\n",
    "\n",
    "..., -1, 0, 1, 2, 3, ..."
   ]
  },
  {
   "cell_type": "code",
   "execution_count": 1,
   "metadata": {},
   "outputs": [
    {
     "name": "stdout",
     "output_type": "stream",
     "text": [
      "5 -1401 50000000\n"
     ]
    }
   ],
   "source": [
    "a = 5\n",
    "b = -1401\n",
    "c = 50000000\n",
    "\n",
    "print(a, b, c)"
   ]
  },
  {
   "attachments": {},
   "cell_type": "markdown",
   "metadata": {},
   "source": [
    "برای اینکه نوع یک متغیر رو بشناسیم از دستور \n",
    "\n",
    "`type`\n",
    "\n",
    "استفاده میکنیم"
   ]
  },
  {
   "cell_type": "code",
   "execution_count": 2,
   "metadata": {},
   "outputs": [
    {
     "data": {
      "text/plain": [
       "int"
      ]
     },
     "execution_count": 2,
     "metadata": {},
     "output_type": "execute_result"
    }
   ],
   "source": [
    "type(c)"
   ]
  },
  {
   "attachments": {},
   "cell_type": "markdown",
   "metadata": {},
   "source": [
    "#### float\n",
    "\n",
    "اعداد اعشاری در این دسته قرار دارند."
   ]
  },
  {
   "cell_type": "code",
   "execution_count": 6,
   "metadata": {},
   "outputs": [
    {
     "name": "stdout",
     "output_type": "stream",
     "text": [
      "<class 'float'>\n"
     ]
    }
   ],
   "source": [
    "pi = 3.1415\n",
    "g = 9.8\n",
    "\n",
    "print(type(pi))"
   ]
  },
  {
   "attachments": {},
   "cell_type": "markdown",
   "metadata": {},
   "source": [
    "#### complex\n",
    "\n",
    "اعداد مختلط در این دسته قرار میگیرند.\n",
    "\n",
    "> توجه داشته باشین که در پایتون قسمت موهومی با\n",
    ">\n",
    "> `j` \n",
    ">\n",
    "> مشخص میشوند \n",
    ">\n",
    "> `3 + 6j`\n"
   ]
  },
  {
   "attachments": {},
   "cell_type": "markdown",
   "metadata": {},
   "source": [
    "#### محاسبات ریاضی بر روی اعداد\n",
    "\n",
    "تمام عملیات های:\n",
    "- جمع با علامت `+`\n",
    "- تفریق با علامت `-`\n",
    "- ضرب با علامت `*`\n",
    "- تقسیم با علامت `/`\n",
    "- به توان رساندن با علامت دو تا ستاره `**`\n",
    "- محاسبه باقیمانده با علامت درصد `%`\n",
    "\n",
    "را میتوانید روی اعداد اعمال کنید."
   ]
  },
  {
   "cell_type": "code",
   "execution_count": 16,
   "metadata": {},
   "outputs": [
    {
     "name": "stdout",
     "output_type": "stream",
     "text": [
      "area =  78.53750000000001\n"
     ]
    }
   ],
   "source": [
    "raduis = 5\n",
    "perimeter = 2 * pi * raduis     # متغیر pi در قسمت اعداد اعشاری مقدار گرفته بود. برای همین اینجا استفاده کردم.\n",
    "area = pi * raduis ** 2         # 3.14 * 5 * 5 معادل\n",
    "\n",
    "print(\"area = \", area)"
   ]
  },
  {
   "attachments": {},
   "cell_type": "markdown",
   "metadata": {},
   "source": [
    "میتوانید عملیات ها را بر روی اعداد مختلط هم انجام دهید"
   ]
  },
  {
   "cell_type": "code",
   "execution_count": 20,
   "metadata": {},
   "outputs": [
    {
     "name": "stdout",
     "output_type": "stream",
     "text": [
      "c1 * c2 =  (11.2+42.5j)\n",
      "c1 + c2 =  (11.2+42.5j)\n"
     ]
    }
   ],
   "source": [
    "c1 = 5 - 2j\n",
    "c2 = -1 + 8.1j\n",
    "\n",
    "# ---------------\n",
    "\n",
    "print(\"c1 * c2 = \", c1 * c2)\n",
    "print(\"c1 + c2 = \", c1 * c2)"
   ]
  },
  {
   "attachments": {},
   "cell_type": "markdown",
   "metadata": {},
   "source": [
    "برای اینکه با اعداد و عملیات های آنها بیشتر آشنا شوند این لینک میتونه مفید باشه:\n",
    "\n",
    "https://sabzdanesh.com/python-numbers/"
   ]
  },
  {
   "cell_type": "code",
   "execution_count": 10,
   "metadata": {},
   "outputs": [
    {
     "name": "stdout",
     "output_type": "stream",
     "text": [
      "cpx =  (3+6j)\n",
      "cpx_2 =  (-1-8j)\n"
     ]
    }
   ],
   "source": [
    "cpx = 3 + 6j\n",
    "cpx_2 = -1 - 8j\n",
    "\n",
    "print(\"cpx = \", cpx)\n",
    "print(\"cpx_2 = \", cpx_2)"
   ]
  },
  {
   "attachments": {},
   "cell_type": "markdown",
   "metadata": {},
   "source": [
    "### Strings"
   ]
  },
  {
   "cell_type": "markdown",
   "metadata": {},
   "source": []
  },
  {
   "cell_type": "code",
   "execution_count": null,
   "metadata": {},
   "outputs": [],
   "source": []
  },
  {
   "attachments": {},
   "cell_type": "markdown",
   "metadata": {},
   "source": [
    "### Boolean"
   ]
  },
  {
   "cell_type": "code",
   "execution_count": null,
   "metadata": {},
   "outputs": [],
   "source": []
  },
  {
   "attachments": {},
   "cell_type": "markdown",
   "metadata": {},
   "source": [
    "### Tuple"
   ]
  },
  {
   "cell_type": "code",
   "execution_count": null,
   "metadata": {},
   "outputs": [],
   "source": []
  },
  {
   "attachments": {},
   "cell_type": "markdown",
   "metadata": {},
   "source": [
    "### Lists"
   ]
  },
  {
   "cell_type": "code",
   "execution_count": null,
   "metadata": {},
   "outputs": [],
   "source": []
  },
  {
   "attachments": {},
   "cell_type": "markdown",
   "metadata": {},
   "source": [
    "### Dictionary"
   ]
  },
  {
   "cell_type": "code",
   "execution_count": null,
   "metadata": {},
   "outputs": [],
   "source": []
  }
 ],
 "metadata": {
  "kernelspec": {
   "display_name": "Python 3",
   "language": "python",
   "name": "python3"
  },
  "language_info": {
   "codemirror_mode": {
    "name": "ipython",
    "version": 3
   },
   "file_extension": ".py",
   "mimetype": "text/x-python",
   "name": "python",
   "nbconvert_exporter": "python",
   "pygments_lexer": "ipython3",
   "version": "3.11.2"
  },
  "orig_nbformat": 4,
  "vscode": {
   "interpreter": {
    "hash": "1b1080c1582992e469580106124633d903706e9e2f0dbdb2479c5f75db0f5b53"
   }
  }
 },
 "nbformat": 4,
 "nbformat_minor": 2
}
