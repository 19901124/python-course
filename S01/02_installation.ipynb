{
 "cells": [
  {
   "attachments": {},
   "cell_type": "markdown",
   "metadata": {},
   "source": [
    "### نصب IDE\n",
    "\n",
    "در این دوره ما در نرم افزار زیر کمک میگیریم. برای دانلود بر روی آن کلیک کنید:\n",
    "- PyCharm\n",
    "- VS Code\n",
    "\n"
   ]
  }
 ],
 "metadata": {
  "language_info": {
   "name": "python"
  },
  "orig_nbformat": 4
 },
 "nbformat": 4,
 "nbformat_minor": 2
}
