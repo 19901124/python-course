{
 "cells": [
  {
   "attachments": {},
   "cell_type": "markdown",
   "metadata": {},
   "source": [
    "## zip function"
   ]
  },
  {
   "attachments": {},
   "cell_type": "markdown",
   "metadata": {},
   "source": [
    "### عملکرد\n",
    "\n",
    "- دو تا ایتریتور را کنار هم در نظر بگیرید (مثلا دو تا لیست از اعداد و اسامی)، عناصر آنها را کنار همدیگر،‌جفت، میگذارد."
   ]
  },
  {
   "cell_type": "code",
   "execution_count": 5,
   "metadata": {},
   "outputs": [
    {
     "name": "stdout",
     "output_type": "stream",
     "text": [
      "<class 'zip'>\n",
      "[('Ali', 19), ('Reza', 18), ('Hoda', 17)]\n"
     ]
    }
   ],
   "source": [
    "student = [\"Ali\", \"Reza\", \"Hoda\"]\n",
    "numbers = [  19 ,   18  ,  17   ]\n",
    "\n",
    "merged = zip(student, numbers)\n",
    "\n",
    "print(type(merged))\n",
    "# help(zip)\n",
    "print(list(merged))"
   ]
  }
 ],
 "metadata": {
  "kernelspec": {
   "display_name": "Python 3",
   "language": "python",
   "name": "python3"
  },
  "language_info": {
   "codemirror_mode": {
    "name": "ipython",
    "version": 3
   },
   "file_extension": ".py",
   "mimetype": "text/x-python",
   "name": "python",
   "nbconvert_exporter": "python",
   "pygments_lexer": "ipython3",
   "version": "3.11.0rc2"
  },
  "orig_nbformat": 4,
  "vscode": {
   "interpreter": {
    "hash": "ead1b95f633dc9c51826328e1846203f51a198c6fb5f2884a80417ba131d4e82"
   }
  }
 },
 "nbformat": 4,
 "nbformat_minor": 2
}
