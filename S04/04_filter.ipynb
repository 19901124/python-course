{
 "cells": [
  {
   "attachments": {},
   "cell_type": "markdown",
   "metadata": {},
   "source": [
    "## filter function"
   ]
  },
  {
   "attachments": {},
   "cell_type": "markdown",
   "metadata": {},
   "source": [
    "### عملکرد"
   ]
  },
  {
   "attachments": {},
   "cell_type": "markdown",
   "metadata": {},
   "source": [
    "این تابع دو تا ورودی میگیره، ورودی اول یه تابع هست و ورودی دوم یه ایتریتور\n",
    "\n",
    "کاری که میکنه اینه که روی تک تک عناصر ایتریتور، تابعی که به عنوان ورودی دادیم رو اعمال میکنه!\n",
    "اما خروجی که برمیگردونه فیلترشده هست! یعنی ممکنه بعضی از عناصر ایتریتور مون رو نداشته باشه\n",
    "\n",
    "---\n",
    "\n",
    "<p align=\"center\">\n",
    "  <img alt=\"filter\" src=\"https://raw.githubusercontent.com/hasanisaeed/python-course/main/S04/assets/03_filter.png\"> \n",
    "</p>\n"
   ]
  },
  {
   "attachments": {},
   "cell_type": "markdown",
   "metadata": {},
   "source": [
    "### Syntax\n",
    "\n",
    "```python\n",
    "filter(function, iterator)\n",
    "```"
   ]
  },
  {
   "cell_type": "code",
   "execution_count": null,
   "metadata": {},
   "outputs": [],
   "source": [
    "def check_is_positive(number):\n",
    "    if number > 0:\n",
    "        return True\n",
    "    else:\n",
    "        return False"
   ]
  },
  {
   "cell_type": "code",
   "execution_count": null,
   "metadata": {},
   "outputs": [],
   "source": [
    "numbers = [1, -2, 3, -4, 5]\n",
    "\n",
    "output = filter(check_is_positive, numbers)\n",
    "\n",
    "print(type(output))\n",
    "\n",
    "print(list(output))"
   ]
  },
  {
   "cell_type": "code",
   "execution_count": null,
   "metadata": {},
   "outputs": [],
   "source": [
    "def average(numbers):\n",
    "    avg_ = sum(numbers) / len(numbers)\n",
    "    print(avg_)\n",
    "    if avg_ > 19:\n",
    "        return True\n",
    "    else:\n",
    "        print(\">>> FALSE\")\n",
    "        return False\n",
    "\n",
    "# -------------------------------------------------------------------------\n",
    "\n",
    "students = { \n",
    "        \"Ali\": [19, 20, 17.5],\n",
    "        \"Reza\": [17, 18, 17.25],\n",
    "        \"Hoda\": [18, 19, 21]\n",
    "        }\n",
    "students = dict(filter(lambda kv:average(kv[1]), students.items()))\n",
    "\n",
    "print(students)\n"
   ]
  }
 ],
 "metadata": {
  "kernelspec": {
   "display_name": "Python 3",
   "language": "python",
   "name": "python3"
  },
  "language_info": {
   "codemirror_mode": {
    "name": "ipython",
    "version": 3
   },
   "file_extension": ".py",
   "mimetype": "text/x-python",
   "name": "python",
   "nbconvert_exporter": "python",
   "pygments_lexer": "ipython3",
   "version": "3.11.0"
  },
  "orig_nbformat": 4,
  "vscode": {
   "interpreter": {
    "hash": "ead1b95f633dc9c51826328e1846203f51a198c6fb5f2884a80417ba131d4e82"
   }
  }
 },
 "nbformat": 4,
 "nbformat_minor": 2
}
