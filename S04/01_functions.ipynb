{
 "cells": [
  {
   "attachments": {},
   "cell_type": "markdown",
   "metadata": {},
   "source": [
    "## مرور توابع"
   ]
  },
  {
   "attachments": {},
   "cell_type": "markdown",
   "metadata": {},
   "source": [
    "### Define the function (Syntax)"
   ]
  },
  {
   "cell_type": "code",
   "execution_count": 3,
   "metadata": {},
   "outputs": [],
   "source": [
    "def my_func(*args, **kwargs):\n",
    "    \n",
    "    return "
   ]
  },
  {
   "attachments": {},
   "cell_type": "markdown",
   "metadata": {},
   "source": [
    "**نکته یک:** زمانی که بخواهیم یک تابع تعریف کنیم ولی کدی در آن ننویسیم از کلمه کلیدی \n",
    "\n",
    "`pass`\n",
    "\n",
    "استفاده میکنیم.\n",
    "\n",
    "\n",
    "```python\n",
    "\n",
    "def func(a, b, c):\n",
    "    pass\n",
    "    \n",
    "```"
   ]
  },
  {
   "cell_type": "code",
   "execution_count": null,
   "metadata": {},
   "outputs": [],
   "source": []
  },
  {
   "attachments": {},
   "cell_type": "markdown",
   "metadata": {},
   "source": [
    "**نکته دوم:** تابع میتواند ورودی نداشته باشد یا میتواند خروجی را برنگرداند.\n",
    "در صورتی که تابع خروجی را برنگرداند، مقدار خروجی برابر \n",
    "\n",
    "`None`\n",
    "\n",
    "خواهد بود."
   ]
  },
  {
   "cell_type": "code",
   "execution_count": null,
   "metadata": {},
   "outputs": [],
   "source": []
  },
  {
   "attachments": {},
   "cell_type": "markdown",
   "metadata": {},
   "source": [
    "**نکته سوم:** همیشه در تعریف تابع اولویت ابتدا با \n",
    "\n",
    "`args`\n",
    "\n",
    "و سپس با \n",
    "\n",
    "`kwargs`\n",
    "\n",
    "است.\n",
    "\n",
    "-----\n",
    "\n",
    "```python \n",
    "def func(a, b, year = 2023, lang='python'):\n",
    "    pass\n",
    "```\n",
    "\n",
    "تابع زیر خطاست چرا که\n",
    "\n",
    "`args`\n",
    "\n",
    "بعد از \n",
    "\n",
    "`kwargs`\n",
    "\n",
    "آمده است\n",
    "\n",
    "\n",
    "```python \n",
    "def func(year = 2023, lang='python', a, b):\n",
    "    pass\n",
    "```"
   ]
  }
 ],
 "metadata": {
  "kernelspec": {
   "display_name": "Python 3",
   "language": "python",
   "name": "python3"
  },
  "language_info": {
   "codemirror_mode": {
    "name": "ipython",
    "version": 3
   },
   "file_extension": ".py",
   "mimetype": "text/x-python",
   "name": "python",
   "nbconvert_exporter": "python",
   "pygments_lexer": "ipython3",
   "version": "3.11.0"
  },
  "orig_nbformat": 4,
  "vscode": {
   "interpreter": {
    "hash": "ead1b95f633dc9c51826328e1846203f51a198c6fb5f2884a80417ba131d4e82"
   }
  }
 },
 "nbformat": 4,
 "nbformat_minor": 2
}
