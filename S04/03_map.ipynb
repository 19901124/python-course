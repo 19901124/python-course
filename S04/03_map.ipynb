{
 "cells": [
  {
   "attachments": {},
   "cell_type": "markdown",
   "metadata": {},
   "source": [
    "## map function"
   ]
  },
  {
   "attachments": {},
   "cell_type": "markdown",
   "metadata": {},
   "source": [
    "### تعریف مسئله"
   ]
  },
  {
   "attachments": {},
   "cell_type": "markdown",
   "metadata": {},
   "source": [
    "این تابع دو تا ورودی میگیره، ورودی اول یه تابع هست و ورودی دوم یه ایتریتور\n",
    "\n",
    "کاری که میکنه اینه که روی تک تک عناصر ایتریتور، تابعی که به عنوان ورودی دادیم رو اعمال میکنه!\n"
   ]
  },
  {
   "attachments": {},
   "cell_type": "markdown",
   "metadata": {},
   "source": [
    "### Define the function (Syntax)\n",
    "\n",
    "```python\n",
    "map(function, iterator)\n",
    "```"
   ]
  },
  {
   "cell_type": "code",
   "execution_count": null,
   "metadata": {},
   "outputs": [],
   "source": [
    "def pow(number):\n",
    "    return number ** 2"
   ]
  },
  {
   "cell_type": "code",
   "execution_count": null,
   "metadata": {},
   "outputs": [],
   "source": [
    "numbers = [1, 2, 3, 4, 5]\n",
    "\n",
    "output = map(pow, numbers)\n",
    "\n",
    "print(type(output))\n",
    "\n",
    "print(list(output))"
   ]
  },
  {
   "cell_type": "code",
   "execution_count": null,
   "metadata": {},
   "outputs": [],
   "source": [
    "def average(numbers):\n",
    "    return sum(numbers) / len(numbers)\n",
    "\n",
    "# -------------------------------------------------------------------------\n",
    "\n",
    "students = { \n",
    "        \"Ali\": [19, 20, 17.5],\n",
    "        \"Reza\": [17, 18, 17.25],\n",
    "        \"Hoda\": [18, 19, 21]\n",
    "        }\n",
    "students = dict(map(lambda kv: (kv[0], average(kv[1])), students.items()))\n",
    "\n",
    "print(students)\n"
   ]
  }
 ],
 "metadata": {
  "kernelspec": {
   "display_name": "Python 3",
   "language": "python",
   "name": "python3"
  },
  "language_info": {
   "codemirror_mode": {
    "name": "ipython",
    "version": 3
   },
   "file_extension": ".py",
   "mimetype": "text/x-python",
   "name": "python",
   "nbconvert_exporter": "python",
   "pygments_lexer": "ipython3",
   "version": "3.11.0rc2"
  },
  "orig_nbformat": 4,
  "vscode": {
   "interpreter": {
    "hash": "ead1b95f633dc9c51826328e1846203f51a198c6fb5f2884a80417ba131d4e82"
   }
  }
 },
 "nbformat": 4,
 "nbformat_minor": 2
}
